{
 "cells": [
  {
   "cell_type": "markdown",
   "id": "43b8390d-86a1-42dd-bdf4-0ce8e790322e",
   "metadata": {},
   "source": [
    "## Collisions in the Corona and the Solar Wind"
   ]
  },
  {
   "cell_type": "markdown",
   "id": "c4229104-9ffe-4007-95b8-1ee8473a5012",
   "metadata": {},
   "source": [
    "Our formula for the collision frequency between electrons and ions was previously:\n",
    "$$ \\nu = n\\sigma_c v \\ln \\Lambda,$$\n",
    "\n",
    "where $n$ is the density, $\\sigma_c$ is the cross section for the interaction, $v$ is the average relative velocity, and $\\ln\\Lambda$ is the Coulomb logarithm. (See Chapter 3 Section....for a detailed review of collision frequency.)\n",
    "\n",
    "There are two functions in Plasmapy for calculating the collision frequency. One, SingleParticleCollisionFrequencies() uses the relative drift velocity, and the other, MaxwellianCollisionFrequencies() uses the relative thermal speed. Both assume 2 kinds of particles, $a$ and $b$, but the first treats it as a collision between two individual particles, while the other treats it as two interacting fluids. The Maxwellian approximation is appropriate when the fluids are \"slowly flowing,\" which means\n",
    "$$v_{drift} \\ll \\sqrt{v_a^2 + v_b^2},$$\n",
    "\n",
    "where $v_{drift}$ is the relative drift between the two particles, while $v_a$ and $v_b$ are the thermal velocities of the fluids. Let's check which one would be valid for approximating the collision frequency in the solar corona and wind."
   ]
  },
  {
   "cell_type": "code",
   "execution_count": 65,
   "id": "f26eb21f-5d8b-4fa7-886b-ae9cd8cd5d10",
   "metadata": {},
   "outputs": [],
   "source": [
    "%matplotlib inline\n",
    "\n",
    "import plasmapy.formulary.collisions as coll\n",
    "import astropy.units as u\n",
    "import matplotlib.pyplot as plt\n",
    "import numpy as np\n",
    "from astropy.constants import hbar as ℏ\n",
    "from astropy.visualization import quantity_support\n",
    "\n",
    "from plasmapy.formulary.collisions import (\n",
    "    Coulomb_logarithm,\n",
    "    impact_parameter,\n",
    "    impact_parameter_perp,\n",
    ")\n",
    "from plasmapy.formulary.speeds import thermal_speed\n",
    "from plasmapy.particles import reduced_mass"
   ]
  },
  {
   "cell_type": "markdown",
   "id": "253b4892-5209-4475-baaf-70539f0a765d",
   "metadata": {},
   "source": [
    "[thermal_speed()]:https://docs.plasmapy.org/en/stable/notebooks/formulary/thermal_speed.html\n",
    "\n",
    "The [thermal_speed()] function can calculate the thermal speed (most probable), the rms speed, and the mean speed. In this case, we will use the 'most_probable' method. (See Ch. 1 Section Thermodynamics for a more detailed description) Note that the temperature and density of the electrons can and often does differ from the temperature and density of the protons in solar environments. But for simplicity, and to gain an order-of-magnitude estimate, we consider them the same here."
   ]
  },
  {
   "cell_type": "code",
   "execution_count": 66,
   "id": "44128424-3cf4-4ddb-9773-29ef66f71d55",
   "metadata": {},
   "outputs": [
    {
     "name": "stdout",
     "output_type": "stream",
     "text": [
      "5505694.902726359 m / s 128486.5732808313 m / s\n"
     ]
    }
   ],
   "source": [
    "T_corona = 1e6 * u.K\n",
    "v_e,v_p = thermal_speed(T=T_corona, particle=[\"e-\",\"p+\"], method=\"most_probable\", ndim=3)\n",
    "print(v_e,v_p)"
   ]
  },
  {
   "cell_type": "markdown",
   "id": "c7cf067b-99d5-4903-8391-2b5325de6333",
   "metadata": {},
   "source": [
    "Those are some very fast thermal velocities!\n",
    "\n",
    "The equation for drift velocity is  \n",
    "$$v_{drift} = \\frac{\\mathbf{E}\\times \\mathbf{B}}{B^2}.$$\n",
    "So when the strength of the electric field $\\mathbf{E}$ is much smaller than the magnetic field $\\mathbf{B}$, the drift velocity will be small. This is the case for the corona and the solar wind, which are highly magnetized plasmas. We then can safely assume that our \"slowly flowing\" condition is met and will use the Maxwellian method for the collision frequency."
   ]
  },
  {
   "cell_type": "markdown",
   "id": "65bc7710-92b3-4ba3-a7d0-70e0afc277fc",
   "metadata": {},
   "source": [
    "[Debye length]: https://en.wikipedia.org/wiki/Debye_length\n",
    "[reduced mass]: https://en.wikipedia.org/wiki/Reduced_mass\n",
    "[de Broglie wavelength]: https://en.wikipedia.org/wiki/Matter_wave\n",
    "[Debye_length()]: https://docs.plasmapy.org/en/stable/api/plasmapy.formulary.lengths.Debye_length.html\n",
    "[impact_parameter_perp()]: https://docs.plasmapy.org/en/latest/api/plasmapy.formulary.collisions.lengths.impact_parameter_perp.html#impact-parameter-perp\n",
    "[impact_parameter()]: https://docs.plasmapy.org/en/latest/api/plasmapy.formulary.collisions.lengths.impact_parameter.html\n",
    "[plasmapy.formulary]: https://docs.plasmapy.org/en/latest/formulary/index.html\n",
    "\n",
    "We know $v$, and now must calculate $\\ln\\Lambda$. The Coulomb logarithm accounts for the range in impact parameters for the different collisions, and is given by \n",
    "$$\\ln{Λ} = \\ln\\left(\\frac{b_\\max}{b_\\min}\\right).$$\n",
    "\n",
    "The minimum and maximum impact parameters ($b_\\min$ and $b_\\max$, respectively) represent the range of distances of closest approach. Usually $b_\\max$ is given by the [Debye length], \n",
    "$$λ_D = \\sqrt{\\frac{\\epsilon_0 kT_e}{n_eq_e^2}},$$\n",
    "which can be calculated with [Debye_length()], but is also built into the [impact_parameter()] function. \n",
    "\n",
    "The inner impact parameter $b_\\min$ could be set to a 90° deflection angle, $ρ_⟂$, which can be calculated with [impact_parameter_perp()].  Alternatively, $b_\\min$ could be set to be the [de Broglie wavelength], $λ_{dB} = h/\\mu v$, calculated using the [reduced mass], $μ$, of the particles. Typically, we choose whichever value is larger, $$b_\\min = \\max\\left\\{ρ_⟂, λ_{dB} \\right\\}.$$ The [impact_parameter()] function will calculate both values of $b_\\min$ and choose for you. Let's estimate $b_\\min$ and $b_\\max$ for electron-proton collisions in the solar corona."
   ]
  },
  {
   "cell_type": "code",
   "execution_count": 67,
   "id": "aa225676-c1dc-451a-9d5a-ed3a71d65cf6",
   "metadata": {},
   "outputs": [
    {
     "name": "stdout",
     "output_type": "stream",
     "text": [
      "bmin = 1.05e-11 m\n",
      "bmax = 2.18e-03 m\n"
     ]
    },
    {
     "data": {
      "text/plain": [
       "19.150697742645406"
      ]
     },
     "execution_count": 67,
     "metadata": {},
     "output_type": "execute_result"
    }
   ],
   "source": [
    "#Create a list of input values for the impact_parameter() function\n",
    "solar_corona = {\n",
    "    \"T\": 1e6 * u.K,\n",
    "    \"n_e\": 1e9 * u.cm**-3,\n",
    "    \"species\": [\"e-\", \"p+\"],\n",
    "}\n",
    "\n",
    "bmin, bmax = impact_parameter(**solar_corona)\n",
    "\n",
    "print(f\"{bmin = :.2e}\")\n",
    "print(f\"{bmax = :.2e}\")\n",
    "\n",
    "#use the same values for the coulomb logarithm calculation\n",
    "Coulomb_logarithm(**solar_corona)"
   ]
  },
  {
   "cell_type": "markdown",
   "id": "327de373-8bcc-4793-90cf-effcaaf7ac2d",
   "metadata": {},
   "source": [
    "So $\\ln\\Lambda$ is $\\sim 20$. Now we are ready to calculate the collision frequency."
   ]
  },
  {
   "cell_type": "code",
   "execution_count": 68,
   "id": "b9aaf0ef-f61a-4530-97c6-dc5d4f03006f",
   "metadata": {},
   "outputs": [
    {
     "data": {
      "text/latex": [
       "$92.416549 \\; \\mathrm{Hz}$"
      ],
      "text/plain": [
       "<Quantity 92.41654907 Hz>"
      ]
     },
     "execution_count": 68,
     "metadata": {},
     "output_type": "execute_result"
    }
   ],
   "source": [
    "n = 1e9 * u.cm**-3\n",
    "Coulomb_log = Coulomb_logarithm(**solar_corona) * u.dimensionless_unscaled\n",
    "\n",
    "#Inputs: the two particle types, the drift velocity (can be 0 since we use the Lorentz_collision_frequency attribute), \n",
    "#the temperature and densities of the two particles, which we assume are the same in this case, and the Coulomb logarithm we calculated\n",
    "frequencies = coll.frequencies.MaxwellianCollisionFrequencies(\n",
    "    \"e-\", \"p+\", v_drift=0 * u.m / u.s, T_a=T_corona,n_a=n,n_b=n, T_b=T_corona, Coulomb_log=Coulomb_log\n",
    ")\n",
    "frequencies.Lorentz_collision_frequency"
   ]
  },
  {
   "cell_type": "markdown",
   "id": "6976d3f0-3880-43e1-8c0a-2a0a7543f24d",
   "metadata": {},
   "source": [
    "Whether or not this collision rate contributes to heating depends on how this rate compares to the other motions in the plasma. For example, the plasma frequency (REF from Ch 3) and the gyrofrequency (REF from Ch 3). Let's calculate them and compare:"
   ]
  },
  {
   "cell_type": "code",
   "execution_count": 69,
   "id": "d19d8236-fc8c-4df3-a77d-2d370389c30e",
   "metadata": {},
   "outputs": [
    {
     "data": {
      "text/latex": [
       "$[1.7839864 \\times 10^{9},~41632945] \\; \\mathrm{Hz}$"
      ],
      "text/plain": [
       "<Quantity [1.78398637e+09, 4.16329453e+07] Hz>"
      ]
     },
     "execution_count": 69,
     "metadata": {},
     "output_type": "execute_result"
    }
   ],
   "source": [
    "from plasmapy.formulary import plasma_frequency\n",
    "plasma_frequency(n, ['e-','p+']).to(\"Hz\", equivalencies=u.dimensionless_angles())"
   ]
  },
  {
   "cell_type": "code",
   "execution_count": 70,
   "id": "ee0b9881-1cdc-47a1-ae55-9cb724023206",
   "metadata": {},
   "outputs": [
    {
     "data": {
      "text/latex": [
       "$[8.7941001 \\times 10^{8},~478941.66] \\; \\mathrm{Hz}$"
      ],
      "text/plain": [
       "<Quantity [8.79410005e+08, 4.78941658e+05] Hz>"
      ]
     },
     "execution_count": 70,
     "metadata": {},
     "output_type": "execute_result"
    }
   ],
   "source": [
    "from plasmapy.formulary import gyrofrequency\n",
    "B = 50 * u.G #magnetic field strength in corona, for gyrofrequency calc\n",
    "gyrofrequency(B, ['e-','p+']).to(\"Hz\", equivalencies=u.dimensionless_angles())"
   ]
  },
  {
   "cell_type": "markdown",
   "id": "41c5d4d7-325e-47e3-86a3-659ccf2ee411",
   "metadata": {},
   "source": [
    "So the $\\omega_p$ and $\\omega_c$ and both much larger than the collision frequency, particularly for electrons. Effects from the collisions are then negligible, and the corona is considered a collisionless plasma.\n",
    "\n",
    "The solar wind is even more collisionless."
   ]
  },
  {
   "cell_type": "code",
   "execution_count": 71,
   "id": "16c340cf-bc98-4f66-b612-a8bbe8676b40",
   "metadata": {},
   "outputs": [
    {
     "name": "stdout",
     "output_type": "stream",
     "text": [
      "bmin = 1.39e-11 m\n",
      "bmax = 1.07e+01 m\n",
      "Coulomb_log = 2.74e+01\n"
     ]
    },
    {
     "data": {
      "text/latex": [
       "$7.1039674 \\times 10^{-6} \\; \\mathrm{Hz}$"
      ],
      "text/plain": [
       "<Quantity 7.10396736e-06 Hz>"
      ]
     },
     "execution_count": 71,
     "metadata": {},
     "output_type": "execute_result"
    }
   ],
   "source": [
    "solar_wind = {\n",
    "    \"T\": 6e5 * u.K,\n",
    "    \"n_e\": 25 * u.cm**-3,\n",
    "    \"species\": [\"e-\", \"p+\"],\n",
    "}\n",
    "\n",
    "bmin, bmax = impact_parameter(**solar_wind)\n",
    "\n",
    "print(f\"{bmin = :.2e}\")\n",
    "print(f\"{bmax = :.2e}\")\n",
    "\n",
    "Coulomb_log = Coulomb_logarithm(**solar_wind)* u.dimensionless_unscaled\n",
    "print(f\"{Coulomb_log = :.2e}\")\n",
    "\n",
    "T_wind = 6*10**5*u.K\n",
    "n_wind = 25 * u.cm**-3\n",
    "\n",
    "frequencies = coll.frequencies.MaxwellianCollisionFrequencies(\n",
    "    \"e-\", \"p+\", v_drift=0 * u.m / u.s, T_a=T_wind,n_a=n_wind,n_b=n_wind, \n",
    "    T_b=T_wind, Coulomb_log=Coulomb_log\n",
    ")\n",
    "frequencies.Lorentz_collision_frequency"
   ]
  },
  {
   "cell_type": "markdown",
   "id": "062c28b3-ef0d-414e-9f3e-3563f8882460",
   "metadata": {},
   "source": [
    "In other words, collisions happen very, very rarely in the solar wind."
   ]
  },
  {
   "cell_type": "code",
   "execution_count": null,
   "id": "0c86a27d-f2f0-4af4-9e92-e124ef8c5b7b",
   "metadata": {},
   "outputs": [],
   "source": []
  }
 ],
 "metadata": {
  "kernelspec": {
   "display_name": "Python 3 (ipykernel)",
   "language": "python",
   "name": "python3"
  },
  "language_info": {
   "codemirror_mode": {
    "name": "ipython",
    "version": 3
   },
   "file_extension": ".py",
   "mimetype": "text/x-python",
   "name": "python",
   "nbconvert_exporter": "python",
   "pygments_lexer": "ipython3",
   "version": "3.12.4"
  }
 },
 "nbformat": 4,
 "nbformat_minor": 5
}
